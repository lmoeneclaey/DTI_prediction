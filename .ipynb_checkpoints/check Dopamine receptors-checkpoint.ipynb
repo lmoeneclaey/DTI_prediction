{
 "cells": [
  {
   "cell_type": "code",
   "execution_count": 1,
   "metadata": {},
   "outputs": [],
   "source": [
    "import pickle\n",
    "import csv\n",
    "import math\n",
    "import pandas as pd\n",
    "import numpy as np\n",
    "import os\n",
    "import re"
   ]
  },
  {
   "cell_type": "code",
   "execution_count": 2,
   "metadata": {},
   "outputs": [
    {
     "name": "stderr",
     "output_type": "stream",
     "text": [
      "RDKit WARNING: [15:32:17] Enabling RDKit 2019.09.3 jupyter extensions\n"
     ]
    }
   ],
   "source": [
    "from rdkit import DataStructs\n",
    "from rdkit import Chem\n",
    "from rdkit.Chem import AllChem"
   ]
  },
  {
   "cell_type": "code",
   "execution_count": 3,
   "metadata": {},
   "outputs": [],
   "source": [
    "from sklearn.preprocessing import KernelCenterer"
   ]
  },
  {
   "cell_type": "code",
   "execution_count": 4,
   "metadata": {},
   "outputs": [],
   "source": [
    "from process_dataset.process_DB import check_prot_length, get_specie_per_uniprot, get_all_DrugBank_fasta, get_DB"
   ]
  },
  {
   "cell_type": "code",
   "execution_count": 5,
   "metadata": {},
   "outputs": [],
   "source": [
    "root = './'"
   ]
  },
  {
   "cell_type": "code",
   "execution_count": 39,
   "metadata": {},
   "outputs": [],
   "source": [
    "DB_version = \"drugbank_v5.1.5\"\n",
    "DB_type = \"S0h\"\n",
    "process_name = \"DT\""
   ]
  },
  {
   "cell_type": "code",
   "execution_count": 40,
   "metadata": {},
   "outputs": [],
   "source": [
    "# data_dir variable \n",
    "data_dir = 'data/' + DB_version + '/' + process_name + '_' + DB_type + '/'\n",
    "# pattern_name variable\n",
    "pattern_name = process_name + '_' + DB_type"
   ]
  },
  {
   "cell_type": "code",
   "execution_count": 7,
   "metadata": {},
   "outputs": [],
   "source": [
    "dopamine_UniprotID = list(['P21728', 'P21918', 'P14416', 'P35462', 'P21917'])"
   ]
  },
  {
   "cell_type": "code",
   "execution_count": 8,
   "metadata": {},
   "outputs": [],
   "source": [
    "dict_uniprot2fasta, list_inter = get_all_DrugBank_fasta(DB_version, \n",
    "                                                        DB_type)"
   ]
  },
  {
   "cell_type": "code",
   "execution_count": 9,
   "metadata": {},
   "outputs": [],
   "source": [
    "prot_inter=list()\n",
    "for couple in list_inter:\n",
    "    prot_inter.append(couple[0])"
   ]
  },
  {
   "cell_type": "code",
   "execution_count": 10,
   "metadata": {},
   "outputs": [],
   "source": [
    "dopamine_list_inter = list()\n",
    "for couple in list_inter:\n",
    "    if couple[0] in dopamine_UniprotID:\n",
    "        dopamine_list_inter.append(couple)"
   ]
  },
  {
   "cell_type": "code",
   "execution_count": 12,
   "metadata": {},
   "outputs": [
    {
     "data": {
      "text/plain": [
       "304"
      ]
     },
     "execution_count": 12,
     "metadata": {},
     "output_type": "execute_result"
    }
   ],
   "source": [
    "len(dopamine_list_inter)"
   ]
  },
  {
   "cell_type": "code",
   "execution_count": 16,
   "metadata": {},
   "outputs": [
    {
     "data": {
      "text/plain": [
       "[('P21728', '1A'),\n",
       " ('P21918', '1B'),\n",
       " ('P21917', '4'),\n",
       " ('P35462', '3'),\n",
       " ('P14416', '2'),\n",
       " ('P21728', '1A'),\n",
       " ('P21918', '1B'),\n",
       " ('P21728', '1A'),\n",
       " ('P21918', '1B'),\n",
       " ('P14416', '2'),\n",
       " ('P35462', '3'),\n",
       " ('P21917', '4')]"
      ]
     },
     "execution_count": 16,
     "metadata": {},
     "output_type": "execute_result"
    }
   ],
   "source": [
    "dopamine_dict_uniprot2fasta = {}\n",
    "for dict_uniprot2fasta.k"
   ]
  },
  {
   "cell_type": "code",
   "execution_count": null,
   "metadata": {},
   "outputs": [],
   "source": [
    "dict_id2smile_inter, dict_uniprot2fasta_inter, list_interactions = {}, {}, []\n",
    "print('len(list_inter)', len(list_inter))\n",
    "for couple in list_inter:\n",
    "    if couple[1] in list(dict_id2smile.keys()) and couple[0] in list(dict_uniprot2fasta.keys()):\n",
    "        list_interactions.append(couple)\n",
    "        dict_id2smile_inter[couple[1]] = dict_id2smile[couple[1]]\n",
    "        dict_uniprot2fasta_inter[couple[0]] = dict_uniprot2fasta[couple[0]]"
   ]
  },
  {
   "cell_type": "code",
   "execution_count": 17,
   "metadata": {},
   "outputs": [
    {
     "name": "stdout",
     "output_type": "stream",
     "text": [
      "P21728\n",
      "dict_uniprot2fasta:  True\n",
      "list_inter:  True\n",
      "dict_target:  True\n",
      "P21918\n",
      "dict_uniprot2fasta:  True\n",
      "list_inter:  True\n",
      "dict_target:  True\n",
      "P14416\n",
      "dict_uniprot2fasta:  True\n",
      "list_inter:  True\n",
      "dict_target:  True\n",
      "P35462\n",
      "dict_uniprot2fasta:  True\n",
      "list_inter:  True\n",
      "dict_target:  True\n",
      "P21917\n",
      "dict_uniprot2fasta:  True\n",
      "list_inter:  True\n",
      "dict_target:  True\n"
     ]
    }
   ],
   "source": [
    "for i in range(0,5):\n",
    "    \n",
    "    dopamine_id = dopamine_UniprotID[i]\n",
    "    \n",
    "    print(dopamine_id)\n",
    "    print(\"dict_uniprot2fasta: \",dopamine_id in list(dict_uniprot2fasta.keys()))\n",
    "    print(\"list_inter: \",dopamine_id in prot_inter)\n",
    "    print(\"dict_target: \",dopamine_id in list(dict_target.keys()))"
   ]
  },
  {
   "cell_type": "code",
   "execution_count": 18,
   "metadata": {},
   "outputs": [],
   "source": [
    "old_dict_ligand, old_dict_target, old_intMat, old_dict_ind2prot, old_dict_ind2mol, old_dict_prot2ind, old_dict_mol2ind = get_DB(\"drugbank_v5.1.5\", \n",
    "                                                                                                                                \"S0h\",\n",
    "                                                                                                                                \"old_DTI\")"
   ]
  },
  {
   "cell_type": "code",
   "execution_count": 19,
   "metadata": {},
   "outputs": [],
   "source": [
    "dict_ligand, dict_target, intMat, dict_ind2prot, dict_ind2mol, dict_prot2ind, dict_mol2ind = get_DB(\"drugbank_v5.1.5\", \n",
    "                                                                                                    \"S0h\",\n",
    "                                                                                                    \"DTI\")"
   ]
  },
  {
   "cell_type": "code",
   "execution_count": 27,
   "metadata": {},
   "outputs": [],
   "source": [
    "list_target = list(dict_target.keys())\n",
    "old_list_target = list(old_dict_target.keys())"
   ]
  },
  {
   "cell_type": "code",
   "execution_count": 30,
   "metadata": {},
   "outputs": [],
   "source": [
    "new_targets = list(set(list_target) - set(old_list_target))"
   ]
  },
  {
   "cell_type": "code",
   "execution_count": 43,
   "metadata": {},
   "outputs": [],
   "source": [
    "file = open('/Users/matthieu/ownCloud/Programming/CFTR_PROJECT/data/drugbank_v5.1.5/DTI_missing_targets.tsv', 'w')\n",
    "for target in new_targets:\n",
    "    file.write(target + '\\n')\n",
    "file.close()"
   ]
  },
  {
   "cell_type": "code",
   "execution_count": 44,
   "metadata": {},
   "outputs": [],
   "source": [
    "import pandas as pd"
   ]
  },
  {
   "cell_type": "code",
   "execution_count": 45,
   "metadata": {},
   "outputs": [],
   "source": [
    "targets_df = pd.read_csv(\"/Users/matthieu/ownCloud/Programming/CFTR_PROJECT/data/drugbank_v5.1.5/raw/drugbank_small_molecule_target_polypeptide_ids.csv/all.csv\")"
   ]
  },
  {
   "cell_type": "code",
   "execution_count": 55,
   "metadata": {},
   "outputs": [],
   "source": [
    "missing_targets = targets_df[targets_df['UniProt ID'].isin(new_targets)]"
   ]
  },
  {
   "cell_type": "code",
   "execution_count": 56,
   "metadata": {},
   "outputs": [],
   "source": [
    "missing_targets.to_csv(\"/Users/matthieu/ownCloud/Programming/CFTR_PROJECT/data/drugbank_v5.1.5/DTI_missing_targets_w_GeneID.csv\")"
   ]
  },
  {
   "cell_type": "code",
   "execution_count": 52,
   "metadata": {},
   "outputs": [
    {
     "data": {
      "text/plain": [
       "0       False\n",
       "1       False\n",
       "2       False\n",
       "3       False\n",
       "4       False\n",
       "        ...  \n",
       "4943    False\n",
       "4944    False\n",
       "4945    False\n",
       "4946    False\n",
       "4947    False\n",
       "Name: UniProt ID, Length: 4948, dtype: bool"
      ]
     },
     "execution_count": 52,
     "metadata": {},
     "output_type": "execute_result"
    }
   ],
   "source": [
    "targets_df['UniProt ID'].isin(dopamine_UniprotID)"
   ]
  },
  {
   "cell_type": "code",
   "execution_count": 50,
   "metadata": {},
   "outputs": [
    {
     "data": {
      "text/plain": [
       "['P21728', 'P21918', 'P14416', 'P35462', 'P21917']"
      ]
     },
     "execution_count": 50,
     "metadata": {},
     "output_type": "execute_result"
    }
   ],
   "source": [
    "dopamine_UniprotID"
   ]
  },
  {
   "cell_type": "code",
   "execution_count": 33,
   "metadata": {},
   "outputs": [
    {
     "name": "stdout",
     "output_type": "stream",
     "text": [
      "True\n",
      "True\n",
      "True\n",
      "True\n",
      "True\n"
     ]
    }
   ],
   "source": [
    "for i in range(0,5):\n",
    "    \n",
    "    dopamine_id = dopamine_UniprotID[i]\n",
    "    print(dopamine_id in new_targets)"
   ]
  },
  {
   "cell_type": "code",
   "execution_count": 20,
   "metadata": {},
   "outputs": [],
   "source": [
    "line = \">drugbank_target|Q15738 Sterol-4-alpha-carboxylate 3-dehydrogenase, decarboxylating (DB00157)\""
   ]
  },
  {
   "cell_type": "code",
   "execution_count": 16,
   "metadata": {},
   "outputs": [],
   "source": [
    "line_dopamine = \">drugbank_target|P21728 D(1A) dopamine receptor (DB00248; DB00334; DB00408; DB00458; DB00477; DB00555; DB00568; DB00696; DB00715; DB00726; DB00988; DB06148; DB09097; DB09225; DB11274; DB11584)\""
   ]
  },
  {
   "cell_type": "code",
   "execution_count": 21,
   "metadata": {},
   "outputs": [],
   "source": [
    "import re"
   ]
  },
  {
   "cell_type": "code",
   "execution_count": 41,
   "metadata": {},
   "outputs": [],
   "source": [
    "test = re.search(\"\\A(\\>)\\w+[|](\\w+) .+ ([ ;\\w]+)\\Z\", line)"
   ]
  },
  {
   "cell_type": "code",
   "execution_count": 17,
   "metadata": {},
   "outputs": [],
   "source": [
    "test2 = re.search(\"\\(([DB0-9; ]*)\\)\\Z\", line_dopamine)"
   ]
  },
  {
   "cell_type": "code",
   "execution_count": 18,
   "metadata": {},
   "outputs": [
    {
     "data": {
      "text/plain": [
       "str"
      ]
     },
     "execution_count": 18,
     "metadata": {},
     "output_type": "execute_result"
    }
   ],
   "source": [
    "type(test2.group(1))"
   ]
  },
  {
   "cell_type": "code",
   "execution_count": 61,
   "metadata": {},
   "outputs": [
    {
     "data": {
      "text/plain": [
       "4837"
      ]
     },
     "execution_count": 61,
     "metadata": {},
     "output_type": "execute_result"
    }
   ],
   "source": [
    "len(dict_ligand.keys())"
   ]
  },
  {
   "cell_type": "code",
   "execution_count": null,
   "metadata": {},
   "outputs": [],
   "source": []
  }
 ],
 "metadata": {
  "kernelspec": {
   "display_name": "Python 3",
   "language": "python",
   "name": "python3"
  },
  "language_info": {
   "codemirror_mode": {
    "name": "ipython",
    "version": 3
   },
   "file_extension": ".py",
   "mimetype": "text/x-python",
   "name": "python",
   "nbconvert_exporter": "python",
   "pygments_lexer": "ipython3",
   "version": "3.7.4"
  }
 },
 "nbformat": 4,
 "nbformat_minor": 4
}
