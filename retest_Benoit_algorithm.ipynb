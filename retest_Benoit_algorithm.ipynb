{
 "cells": [
  {
   "cell_type": "code",
   "execution_count": 1,
   "metadata": {},
   "outputs": [],
   "source": [
    "import pickle\n",
    "import csv\n",
    "import math\n",
    "import pandas as pd\n",
    "import numpy as np\n",
    "import os"
   ]
  },
  {
   "cell_type": "code",
   "execution_count": 2,
   "metadata": {},
   "outputs": [
    {
     "name": "stderr",
     "output_type": "stream",
     "text": [
      "RDKit WARNING: [15:18:20] Enabling RDKit 2019.09.3 jupyter extensions\n"
     ]
    }
   ],
   "source": [
    "from rdkit import DataStructs\n",
    "from rdkit import Chem\n",
    "from rdkit.Chem import AllChem"
   ]
  },
  {
   "cell_type": "code",
   "execution_count": 3,
   "metadata": {},
   "outputs": [],
   "source": [
    "from sklearn.preprocessing import KernelCenterer"
   ]
  },
  {
   "cell_type": "code",
   "execution_count": 4,
   "metadata": {},
   "outputs": [],
   "source": [
    "from scripts.process_dataset.process_DB import get_DB"
   ]
  },
  {
   "cell_type": "code",
   "execution_count": 5,
   "metadata": {},
   "outputs": [],
   "source": [
    "root = './'"
   ]
  },
  {
   "cell_type": "code",
   "execution_count": 6,
   "metadata": {},
   "outputs": [],
   "source": [
    "DB_version = \"drugbank_v5.1.1\"\n",
    "DB_type = \"S0h\"\n",
    "process_name = \"NNdti\""
   ]
  },
  {
   "cell_type": "code",
   "execution_count": 7,
   "metadata": {},
   "outputs": [],
   "source": [
    "dict_ligand, dict_target, intMat, dict_ind2prot, dict_ind2mol, dict_prot2ind, dict_mol2ind = get_DB(\"drugbank_v5.1.1\", \n",
    "                                                                                                   \"S0h\",\n",
    "                                                                                                   \"NNdti\")"
   ]
  },
  {
   "cell_type": "code",
   "execution_count": 8,
   "metadata": {},
   "outputs": [],
   "source": [
    "m = Chem.MolFromSmiles(dict_ligand[dict_ind2mol[1]])"
   ]
  },
  {
   "cell_type": "code",
   "execution_count": 16,
   "metadata": {},
   "outputs": [
    {
     "data": {
      "image/png": "[encoded data removed]",
      "text/plain": [
       "<rdkit.Chem.rdchem.Mol at 0x11a968a30>"
      ]
     },
     "execution_count": 16,
     "metadata": {},
     "output_type": "execute_result"
    }
   ],
   "source": [
    "m"
   ]
  },
  {
   "cell_type": "code",
   "execution_count": 17,
   "metadata": {},
   "outputs": [
    {
     "data": {
      "text/plain": [
       "<rdkit.DataStructs.cDataStructs.UIntSparseIntVect at 0x11a96c3f0>"
      ]
     },
     "execution_count": 17,
     "metadata": {},
     "output_type": "execute_result"
    }
   ],
   "source": [
    "AllChem.GetMorganFingerprint(m, 2)"
   ]
  },
  {
   "cell_type": "code",
   "execution_count": 18,
   "metadata": {},
   "outputs": [],
   "source": [
    "arr = np.zeros((1,))"
   ]
  },
  {
   "cell_type": "code",
   "execution_count": 19,
   "metadata": {},
   "outputs": [
    {
     "data": {
      "text/plain": [
       "array([0.])"
      ]
     },
     "execution_count": 19,
     "metadata": {},
     "output_type": "execute_result"
    }
   ],
   "source": [
    "arr"
   ]
  },
  {
   "cell_type": "code",
   "execution_count": 20,
   "metadata": {},
   "outputs": [
    {
     "data": {
      "text/plain": [
       "<rdkit.DataStructs.cDataStructs.ExplicitBitVect at 0x11a975210>"
      ]
     },
     "execution_count": 20,
     "metadata": {},
     "output_type": "execute_result"
    }
   ],
   "source": [
    "AllChem.GetMorganFingerprintAsBitVect(m, 2, nBits=1024)"
   ]
  },
  {
   "cell_type": "code",
   "execution_count": 21,
   "metadata": {},
   "outputs": [],
   "source": [
    "DataStructs.ConvertToNumpyArray(\n",
    "            AllChem.GetMorganFingerprintAsBitVect(m, 2, nBits=1024), arr)"
   ]
  },
  {
   "cell_type": "code",
   "execution_count": 22,
   "metadata": {},
   "outputs": [
    {
     "data": {
      "text/plain": [
       "array([0., 1., 0., ..., 0., 0., 0.])"
      ]
     },
     "execution_count": 22,
     "metadata": {},
     "output_type": "execute_result"
    }
   ],
   "source": [
    "arr"
   ]
  },
  {
   "cell_type": "code",
   "execution_count": 24,
   "metadata": {},
   "outputs": [
    {
     "data": {
      "text/plain": [
       "(1024,)"
      ]
     },
     "execution_count": 24,
     "metadata": {},
     "output_type": "execute_result"
    }
   ],
   "source": [
    "arr.shape"
   ]
  },
  {
   "cell_type": "code",
   "execution_count": 31,
   "metadata": {},
   "outputs": [],
   "source": [
    "nb_mol = len(list(dict_ligand.keys()))\n",
    "X_fingerprint = np.zeros((nb_mol, 1024), dtype=np.int32)\n",
    "list_fingerprint = []\n",
    "for i in list(dict_ind2mol.keys()):\n",
    "    m = Chem.MolFromSmiles(dict_ligand[dict_ind2mol[i]])\n",
    "    list_fingerprint.append(AllChem.GetMorganFingerprint(m, 2))\n",
    "    arr = np.zeros((1,))\n",
    "    DataStructs.ConvertToNumpyArray(\n",
    "        AllChem.GetMorganFingerprintAsBitVect(m, 2, nBits=1024), arr)\n",
    "    X_fingerprint[i, :] = arr\n",
    "pickle.dump(X_fingerprint,\n",
    "            open(root + 'data/NNdti_' + DB_type + '_X_ChemFingerprint.data', 'wb'))"
   ]
  },
  {
   "cell_type": "code",
   "execution_count": 34,
   "metadata": {},
   "outputs": [
    {
     "data": {
      "text/plain": [
       "(4837, 1024)"
      ]
     },
     "execution_count": 34,
     "metadata": {},
     "output_type": "execute_result"
    }
   ],
   "source": [
    "X_fingerprint.shape"
   ]
  },
  {
   "cell_type": "code",
   "execution_count": 53,
   "metadata": {},
   "outputs": [],
   "source": [
    "X = np.zeros((len(list_fingerprint), len(list_fingerprint)))\n",
    "for i in range(len(list_fingerprint)):\n",
    "    for j in range(i, len(list_fingerprint)):\n",
    "        X[i, j] = DataStructs.TanimotoSimilarity(list_fingerprint[i], list_fingerprint[j])\n",
    "        X[j, i] = X[i, j]"
   ]
  },
  {
   "cell_type": "code",
   "execution_count": 54,
   "metadata": {},
   "outputs": [
    {
     "data": {
      "text/plain": [
       "array([[1.        , 0.10769231, 0.08064516, ..., 0.08510638, 0.06299213,\n",
       "        0.07619048],\n",
       "       [0.10769231, 1.        , 0.27906977, ..., 0.06818182, 0.06956522,\n",
       "        0.06315789],\n",
       "       [0.08064516, 0.27906977, 1.        , ..., 0.0625    , 0.08256881,\n",
       "        0.03225806],\n",
       "       ...,\n",
       "       [0.08510638, 0.06818182, 0.0625    , ..., 1.        , 0.12707182,\n",
       "        0.07692308],\n",
       "       [0.06299213, 0.06956522, 0.08256881, ..., 0.12707182, 1.        ,\n",
       "        0.12328767],\n",
       "       [0.07619048, 0.06315789, 0.03225806, ..., 0.07692308, 0.12328767,\n",
       "        1.        ]])"
      ]
     },
     "execution_count": 54,
     "metadata": {},
     "output_type": "execute_result"
    }
   ],
   "source": [
    "X"
   ]
  },
  {
   "cell_type": "code",
   "execution_count": 37,
   "metadata": {},
   "outputs": [],
   "source": [
    "def center_and_normalise_kernel(K_temp):\n",
    "    K_temp = KernelCenterer().fit_transform(K_temp)\n",
    "    nb_item = K_temp.shape[0]\n",
    "    K_norm = np.zeros((nb_item, nb_item))\n",
    "    for i in range(nb_item):\n",
    "        for j in range(i, nb_item):\n",
    "            K_norm[i, j] = K_temp[i, j] / math.sqrt(K_temp[i, i] * K_temp[j, j])\n",
    "            K_norm[j, i] = K_norm[i, j]\n",
    "\n",
    "    return K_norm"
   ]
  },
  {
   "cell_type": "code",
   "execution_count": 60,
   "metadata": {},
   "outputs": [],
   "source": [
    "K_norm = center_and_normalise_kernel(X)"
   ]
  },
  {
   "cell_type": "code",
   "execution_count": 61,
   "metadata": {},
   "outputs": [
    {
     "data": {
      "text/plain": [
       "array([[ 1.00000000e+00,  4.05812889e-02,  2.09262664e-02, ...,\n",
       "        -1.07224215e-02, -4.91870455e-02, -3.19845198e-02],\n",
       "       [ 4.05812889e-02,  1.00000000e+00,  2.35747010e-01, ...,\n",
       "        -2.45615717e-02, -3.68363298e-02, -4.15551754e-02],\n",
       "       [ 2.09262664e-02,  2.35747010e-01,  1.00000000e+00, ...,\n",
       "        -2.07657007e-02, -1.22324163e-02, -6.53496980e-02],\n",
       "       ...,\n",
       "       [-1.07224215e-02, -2.45615717e-02, -2.07657007e-02, ...,\n",
       "         1.00000000e+00, -4.37988527e-04, -5.53925117e-02],\n",
       "       [-4.91870455e-02, -3.68363298e-02, -1.22324163e-02, ...,\n",
       "        -4.37988527e-04,  1.00000000e+00, -1.64196311e-02],\n",
       "       [-3.19845198e-02, -4.15551754e-02, -6.53496980e-02, ...,\n",
       "        -5.53925117e-02, -1.64196311e-02,  1.00000000e+00]])"
      ]
     },
     "execution_count": 61,
     "metadata": {},
     "output_type": "execute_result"
    }
   ],
   "source": [
    "K_norm"
   ]
  },
  {
   "cell_type": "code",
   "execution_count": 49,
   "metadata": {},
   "outputs": [
    {
     "data": {
      "text/plain": [
       "1.0"
      ]
     },
     "execution_count": 49,
     "metadata": {},
     "output_type": "execute_result"
    }
   ],
   "source": [
    "np.max(K_norm)"
   ]
  },
  {
   "cell_type": "code",
   "execution_count": 59,
   "metadata": {},
   "outputs": [
    {
     "data": {
      "text/plain": [
       "array([   0,    1,    2, ..., 4834, 4835, 4836])"
      ]
     },
     "execution_count": 59,
     "metadata": {},
     "output_type": "execute_result"
    }
   ],
   "source": [
    "np.argmax(X, axis=1)"
   ]
  },
  {
   "cell_type": "code",
   "execution_count": 45,
   "metadata": {},
   "outputs": [],
   "source": []
  },
  {
   "cell_type": "code",
   "execution_count": 46,
   "metadata": {},
   "outputs": [
    {
     "data": {
      "text/plain": [
       "[[1.0, -2.0, 2.0], [-2.0, 1.0, 3.0], [4.0, 1.0, -2.0]]"
      ]
     },
     "execution_count": 46,
     "metadata": {},
     "output_type": "execute_result"
    }
   ],
   "source": [
    "X"
   ]
  },
  {
   "cell_type": "code",
   "execution_count": 47,
   "metadata": {},
   "outputs": [
    {
     "ename": "NameError",
     "evalue": "name 'K' is not defined",
     "output_type": "error",
     "traceback": [
      "\u001b[0;31m---------------------------------------------------------------------------\u001b[0m",
      "\u001b[0;31mNameError\u001b[0m                                 Traceback (most recent call last)",
      "\u001b[0;32m<ipython-input-47-d3768bd7491e>\u001b[0m in \u001b[0;36m<module>\u001b[0;34m\u001b[0m\n\u001b[0;32m----> 1\u001b[0;31m \u001b[0mtransformer\u001b[0m \u001b[0;34m=\u001b[0m \u001b[0mKernelCenterer\u001b[0m\u001b[0;34m(\u001b[0m\u001b[0;34m)\u001b[0m\u001b[0;34m.\u001b[0m\u001b[0mfit\u001b[0m\u001b[0;34m(\u001b[0m\u001b[0mK\u001b[0m\u001b[0;34m)\u001b[0m\u001b[0;34m\u001b[0m\u001b[0;34m\u001b[0m\u001b[0m\n\u001b[0m",
      "\u001b[0;31mNameError\u001b[0m: name 'K' is not defined"
     ]
    }
   ],
   "source": [
    "transformer = KernelCenterer().fit(K)"
   ]
  },
  {
   "cell_type": "code",
   "execution_count": 62,
   "metadata": {},
   "outputs": [
    {
     "name": "stdout",
     "output_type": "stream",
     "text": [
      "1.0 1.0\n"
     ]
    }
   ],
   "source": [
    "print(X[100, 100], K_norm[100, 100])"
   ]
  },
  {
   "cell_type": "code",
   "execution_count": 63,
   "metadata": {},
   "outputs": [
    {
     "name": "stdout",
     "output_type": "stream",
     "text": [
      "[0.09016393 0.06140351 0.05454545 ... 0.10382514 0.14285714 0.265625  ] [-0.01970001 -0.04691819 -0.04415861 ... -0.0280698   0.00288916\n",
      "  0.14777339]\n"
     ]
    }
   ],
   "source": [
    "print(X[100, :], K_norm[100, :])"
   ]
  },
  {
   "cell_type": "code",
   "execution_count": 64,
   "metadata": {},
   "outputs": [
    {
     "name": "stdout",
     "output_type": "stream",
     "text": [
      "1.0 1.0\n"
     ]
    }
   ],
   "source": [
    "print(X[500, 500], K_norm[500, 500])"
   ]
  },
  {
   "cell_type": "code",
   "execution_count": 65,
   "metadata": {},
   "outputs": [
    {
     "name": "stdout",
     "output_type": "stream",
     "text": [
      "[0.03030303 0.03783784 0.07471264 ... 0.11885246 0.07594937 0.00431034] [-0.01107849  0.00126058  0.04839051 ...  0.06122819  0.00257918\n",
      " -0.07251242]\n"
     ]
    }
   ],
   "source": [
    "print(X[500, :], K_norm[500, :])"
   ]
  },
  {
   "cell_type": "code",
   "execution_count": null,
   "metadata": {},
   "outputs": [],
   "source": []
  }
 ],
 "metadata": {
  "kernelspec": {
   "display_name": "Python 3",
   "language": "python",
   "name": "python3"
  },
  "language_info": {
   "codemirror_mode": {
    "name": "ipython",
    "version": 3
   },
   "file_extension": ".py",
   "mimetype": "text/x-python",
   "name": "python",
   "nbconvert_exporter": "python",
   "pygments_lexer": "ipython3",
   "version": "3.7.4"
  }
 },
 "nbformat": 4,
 "nbformat_minor": 4
}
