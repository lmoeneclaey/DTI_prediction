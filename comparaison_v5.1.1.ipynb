{
 "cells": [
  {
   "cell_type": "code",
   "execution_count": 1,
   "metadata": {},
   "outputs": [],
   "source": [
    "import pickle\n",
    "import csv\n",
    "import math\n",
    "import pandas as pd\n",
    "import numpy as np\n",
    "import os"
   ]
  },
  {
   "cell_type": "code",
   "execution_count": 2,
   "metadata": {},
   "outputs": [
    {
     "name": "stderr",
     "output_type": "stream",
     "text": [
      "RDKit WARNING: [12:24:38] Enabling RDKit 2019.09.3 jupyter extensions\n"
     ]
    }
   ],
   "source": [
    "from rdkit import DataStructs\n",
    "from rdkit import Chem\n",
    "from rdkit.Chem import AllChem"
   ]
  },
  {
   "cell_type": "code",
   "execution_count": 3,
   "metadata": {},
   "outputs": [],
   "source": [
    "from sklearn.preprocessing import KernelCenterer"
   ]
  },
  {
   "cell_type": "code",
   "execution_count": 4,
   "metadata": {},
   "outputs": [],
   "source": [
    "from process_dataset.process_DB import get_DB"
   ]
  },
  {
   "cell_type": "markdown",
   "metadata": {},
   "source": [
    "# Benoit's data"
   ]
  },
  {
   "cell_type": "code",
   "execution_count": 7,
   "metadata": {},
   "outputs": [],
   "source": [
    "benoit_dir = \"/Users/matthieu/ownCloud/CFTR_PhD/Chemogenomics/Benoit/passage_de_relai/CFTR_PROJECT/data/NNdti_S0h/\""
   ]
  },
  {
   "cell_type": "code",
   "execution_count": 21,
   "metadata": {},
   "outputs": [],
   "source": [
    "old_dict_ligand = pickle.load(open(benoit_dir + \n",
    "'NNdti_S0h_dict_DBid2smiles.data', 'rb'))\n",
    "old_dict_target = pickle.load(open(benoit_dir + \n",
    "'NNdti_S0h_dict_uniprot2fasta.data', 'rb'))\n",
    "\n",
    "old_intMat = np.load(benoit_dir + 'NNdti_S0h_intMat.npy')\n",
    "    \n",
    "old_dict_ind2mol = pickle.load(open(benoit_dir + \n",
    "'NNdti_S0h_dict_ind2mol.data', 'rb'))\n",
    "old_dict_mol2ind = pickle.load(open(benoit_dir + \n",
    "'NNdti_S0h_dict_mol2ind.data', 'rb'))\n",
    "old_dict_prot2ind = pickle.load(open(benoit_dir + \n",
    "'NNdti_S0h_dict_prot2ind.data', 'rb'))\n",
    "old_dict_ind2prot = pickle.load(open(benoit_dir + \n",
    "'NNdti_S0h_dict_ind2prot.data', 'rb'))"
   ]
  },
  {
   "cell_type": "code",
   "execution_count": 9,
   "metadata": {},
   "outputs": [],
   "source": [
    "old_K_mol_norm = pickle.load(open(benoit_dir + 'NNDti_S0h_Kmol_norm.data', 'rb'))\n",
    "old_K_mol = pickle.load(open(benoit_dir + 'NNDti_S0h_Kmol.data', 'rb'))\n",
    "# old_K_prot = pickle.load(open(benoit_dir + 'NNDti_S0h_Kprot_norm.data', 'rb'))"
   ]
  },
  {
   "cell_type": "markdown",
   "metadata": {},
   "source": [
    "# Matthieu's data"
   ]
  },
  {
   "cell_type": "code",
   "execution_count": 10,
   "metadata": {},
   "outputs": [
    {
     "data": {
      "text/plain": [
       "'/Users/matthieu/ownCloud/Programming/DTI_prediction'"
      ]
     },
     "execution_count": 10,
     "metadata": {},
     "output_type": "execute_result"
    }
   ],
   "source": [
    "os.getcwd()"
   ]
  },
  {
   "cell_type": "code",
   "execution_count": 11,
   "metadata": {},
   "outputs": [],
   "source": [
    "root = '../CFTR_PROJECT/'"
   ]
  },
  {
   "cell_type": "code",
   "execution_count": 12,
   "metadata": {},
   "outputs": [],
   "source": [
    "DB_version = \"drugbank_v5.1.1\"\n",
    "DB_type = \"S0h\"\n",
    "process_name = \"Benoit_NNdti\""
   ]
  },
  {
   "cell_type": "code",
   "execution_count": 13,
   "metadata": {},
   "outputs": [],
   "source": [
    "# data_dir variable \n",
    "data_dir = 'data/' + DB_version + '/' + process_name + '_' + DB_type + '/'\n",
    "# pattern_name variable\n",
    "pattern_name = process_name + '_' + DB_type"
   ]
  },
  {
   "cell_type": "code",
   "execution_count": 14,
   "metadata": {},
   "outputs": [],
   "source": [
    "raw_data_dir = 'data/' + DB_version + '/raw/'"
   ]
  },
  {
   "cell_type": "code",
   "execution_count": 74,
   "metadata": {},
   "outputs": [],
   "source": [
    "dict_ligand = pickle.load(open(root + data_dir + pattern_name + '_dict_DBid2smiles.data', 'rb'))\n",
    "dict_target = pickle.load(open(root + data_dir + pattern_name + '_dict_uniprot2fasta.data', 'rb'))\n",
    "\n",
    "list_interactions = pickle.load(open(root + data_dir + pattern_name + '_list_interactions.data', 'rb'))\n",
    "intMat = np.load(root + data_dir + pattern_name + '_intMat.npy')\n",
    "    \n",
    "dict_ind2mol = pickle.load(open(root + data_dir + pattern_name + '_dict_ind2mol.data', 'rb'))\n",
    "dict_mol2ind = pickle.load(open(root + data_dir + pattern_name + '_dict_mol2ind.data', 'rb'))\n",
    "dict_prot2ind = pickle.load(open(root + data_dir + pattern_name + '_dict_prot2ind.data', 'rb'))\n",
    "dict_ind2prot = pickle.load(open(root + data_dir + pattern_name + '_dict_ind2prot.data', 'rb'))"
   ]
  },
  {
   "cell_type": "code",
   "execution_count": 16,
   "metadata": {},
   "outputs": [],
   "source": [
    "K_mol_norm = pickle.load(open(root + data_dir + pattern_name + '_Kmol_norm.data', 'rb'))\n",
    "K_mol = pickle.load(open(root + data_dir + pattern_name + '_Kmol.data', 'rb'))\n",
    "# K_prot = pickle.load(open(benoit_dir + '_Kprot_norm.data', 'rb'))"
   ]
  },
  {
   "cell_type": "markdown",
   "metadata": {},
   "source": [
    "# Comparaison"
   ]
  },
  {
   "cell_type": "markdown",
   "metadata": {},
   "source": [
    "## Dictionaries"
   ]
  },
  {
   "cell_type": "code",
   "execution_count": 25,
   "metadata": {},
   "outputs": [],
   "source": [
    "def compare_two_dictionaries(x, y):\n",
    "    shared_items = {k: x[k] for k in x if k in y and x[k] == y[k]}\n",
    "    print(len(shared_items))"
   ]
  },
  {
   "cell_type": "code",
   "execution_count": 26,
   "metadata": {},
   "outputs": [],
   "source": [
    "def diff_items_two_dictionaries(x, y):\n",
    "    diff_items = {k: x[k] for k in x if k in y and x[k] != y[k]}\n",
    "    print(diff_items)"
   ]
  },
  {
   "cell_type": "code",
   "execution_count": 28,
   "metadata": {},
   "outputs": [
    {
     "name": "stdout",
     "output_type": "stream",
     "text": [
      "4837\n",
      "{}\n"
     ]
    }
   ],
   "source": [
    "compare_two_dictionaries(old_dict_ligand, dict_ligand)\n",
    "diff_items_two_dictionaries(old_dict_ligand, dict_ligand)"
   ]
  },
  {
   "cell_type": "markdown",
   "metadata": {},
   "source": [
    "## Numpy arrays"
   ]
  },
  {
   "cell_type": "code",
   "execution_count": 30,
   "metadata": {},
   "outputs": [
    {
     "data": {
      "text/plain": [
       "True"
      ]
     },
     "execution_count": 30,
     "metadata": {},
     "output_type": "execute_result"
    }
   ],
   "source": [
    "np.array_equal(old_intMat, intMat)"
   ]
  },
  {
   "cell_type": "code",
   "execution_count": 44,
   "metadata": {},
   "outputs": [],
   "source": [
    "diff_K_mol_norm = K_mol_norm - old_K_mol_norm"
   ]
  },
  {
   "cell_type": "code",
   "execution_count": 66,
   "metadata": {},
   "outputs": [
    {
     "data": {
      "text/plain": [
       "2"
      ]
     },
     "execution_count": 66,
     "metadata": {},
     "output_type": "execute_result"
    }
   ],
   "source": [
    "np.sum(diff_K_mol_norm >= 0.05)"
   ]
  },
  {
   "cell_type": "code",
   "execution_count": 65,
   "metadata": {},
   "outputs": [
    {
     "data": {
      "text/plain": [
       "5159403"
      ]
     },
     "execution_count": 65,
     "metadata": {},
     "output_type": "execute_result"
    }
   ],
   "source": [
    "np.sum(K_mol_norm >= 0.03)"
   ]
  },
  {
   "cell_type": "code",
   "execution_count": 56,
   "metadata": {},
   "outputs": [
    {
     "data": {
      "text/plain": [
       "1545"
      ]
     },
     "execution_count": 56,
     "metadata": {},
     "output_type": "execute_result"
    }
   ],
   "source": [
    "5114254 - (1057 * 4837)"
   ]
  },
  {
   "cell_type": "code",
   "execution_count": 58,
   "metadata": {},
   "outputs": [
    {
     "data": {
      "text/plain": [
       "0.053557818168606"
      ]
     },
     "execution_count": 58,
     "metadata": {},
     "output_type": "execute_result"
    }
   ],
   "source": [
    "diff_K_mol_norm[1057, 1545]"
   ]
  },
  {
   "cell_type": "code",
   "execution_count": 67,
   "metadata": {},
   "outputs": [],
   "source": [
    "a = 'mkdir nwdir'\n",
    "\n",
    "b = os.popen(a, 'r', 1)"
   ]
  },
  {
   "cell_type": "code",
   "execution_count": 68,
   "metadata": {},
   "outputs": [
    {
     "name": "stdout",
     "output_type": "stream",
     "text": [
      "<os._wrap_close object at 0x12c087d50>\n"
     ]
    }
   ],
   "source": [
    "print(b)"
   ]
  },
  {
   "cell_type": "code",
   "execution_count": null,
   "metadata": {},
   "outputs": [],
   "source": []
  }
 ],
 "metadata": {
  "kernelspec": {
   "display_name": "Python 3",
   "language": "python",
   "name": "python3"
  },
  "language_info": {
   "codemirror_mode": {
    "name": "ipython",
    "version": 3
   },
   "file_extension": ".py",
   "mimetype": "text/x-python",
   "name": "python",
   "nbconvert_exporter": "python",
   "pygments_lexer": "ipython3",
   "version": "3.7.4"
  }
 },
 "nbformat": 4,
 "nbformat_minor": 4
}
