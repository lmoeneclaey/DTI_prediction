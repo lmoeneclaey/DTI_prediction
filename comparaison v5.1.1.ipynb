{
 "cells": [
  {
   "cell_type": "code",
   "execution_count": 1,
   "metadata": {},
   "outputs": [],
   "source": [
    "import pickle\n",
    "import csv\n",
    "import math\n",
    "import pandas as pd\n",
    "import numpy as np\n",
    "import os"
   ]
  },
  {
   "cell_type": "code",
   "execution_count": 2,
   "metadata": {},
   "outputs": [
    {
     "name": "stderr",
     "output_type": "stream",
     "text": [
      "RDKit WARNING: [11:47:48] Enabling RDKit 2019.09.3 jupyter extensions\n"
     ]
    }
   ],
   "source": [
    "from rdkit import DataStructs\n",
    "from rdkit import Chem\n",
    "from rdkit.Chem import AllChem"
   ]
  },
  {
   "cell_type": "code",
   "execution_count": 3,
   "metadata": {},
   "outputs": [],
   "source": [
    "from sklearn.preprocessing import KernelCenterer"
   ]
  },
  {
   "cell_type": "code",
   "execution_count": 4,
   "metadata": {},
   "outputs": [],
   "source": [
    "from scripts.process_dataset.process_DB import get_DB"
   ]
  },
  {
   "cell_type": "markdown",
   "metadata": {},
   "source": [
    "# Benoit's data"
   ]
  },
  {
   "cell_type": "code",
   "execution_count": 16,
   "metadata": {},
   "outputs": [],
   "source": [
    "benoit_dir = \"../../Benoit/passage_de_relai/CFTR_PROJECT/data/NNdti_S0h/\""
   ]
  },
  {
   "cell_type": "code",
   "execution_count": 18,
   "metadata": {},
   "outputs": [],
   "source": [
    "old_dict_ligand = pickle.load(open(benoit_dir + \n",
    "'NNdti_S0h_dict_DBid2smiles.data', 'rb'))\n",
    "old_dict_target = pickle.load(open(benoit_dir + \n",
    "'NNdti_S0h_dict_uniprot2fasta.data', 'rb'))\n",
    "\n",
    "old_intMat = np.load(benoit_dir + 'NNdti_S0h_intMat.npy')\n",
    "    \n",
    "old_dict_ind2mol = pickle.load(open(benoit_dir + \n",
    "'NNdti_S0h_dict_ind2mol.data', 'rb'))\n",
    "old_dict_mol2ind = pickle.load(open(benoit_dir + \n",
    "'NNdti_S0h_dict_mol2ind.data', 'rb'))\n",
    "old_dict_prot2ind = pickle.load(open(benoit_dir + \n",
    "'NNdti_S0h_dict_prot2ind.data', 'rb'))\n",
    "old_dict_ind2prot = pickle.load(open(benoit_dir + \n",
    "'NNdti_S0h_dict_ind2prot.data', 'rb'))"
   ]
  },
  {
   "cell_type": "code",
   "execution_count": 51,
   "metadata": {},
   "outputs": [],
   "source": [
    "old_K_mol_norm = pickle.load(open(benoit_dir + 'NNDti_S0h_Kmol_norm.data', 'rb'))\n",
    "old_K_mol = pickle.load(open(benoit_dir + 'NNDti_S0h_Kmol.data', 'rb'))\n",
    "# old_K_prot = pickle.load(open(benoit_dir + 'NNDti_S0h_Kprot_norm.data', 'rb'))"
   ]
  },
  {
   "cell_type": "markdown",
   "metadata": {},
   "source": [
    "# Matthieu's data"
   ]
  },
  {
   "cell_type": "code",
   "execution_count": 43,
   "metadata": {},
   "outputs": [],
   "source": [
    "root = './'"
   ]
  },
  {
   "cell_type": "code",
   "execution_count": 44,
   "metadata": {},
   "outputs": [],
   "source": [
    "DB_version = \"drugbank_v5.1.1\"\n",
    "DB_type = \"S0h\"\n",
    "process_name = \"Benoit_NNdti\""
   ]
  },
  {
   "cell_type": "code",
   "execution_count": 45,
   "metadata": {},
   "outputs": [],
   "source": [
    "# data_dir variable \n",
    "data_dir = 'data/' + DB_version + '/' + process_name + '_' + DB_type + '/'\n",
    "# pattern_name variable\n",
    "pattern_name = process_name + '_' + DB_type"
   ]
  },
  {
   "cell_type": "code",
   "execution_count": 46,
   "metadata": {},
   "outputs": [],
   "source": [
    "dict_ligand, dict_target, intMat, dict_ind2prot, dict_ind2mol, dict_prot2ind, dict_mol2ind = get_DB(\"drugbank_v5.1.1\", \n",
    "                                                                                                    \"S0h\",\n",
    "                                                                                                    \"NNdti\")"
   ]
  },
  {
   "cell_type": "code",
   "execution_count": 55,
   "metadata": {},
   "outputs": [],
   "source": [
    "preprocessed_DB = get_DB(DB_version, DB_type, process_name)"
   ]
  },
  {
   "cell_type": "code",
   "execution_count": 64,
   "metadata": {},
   "outputs": [
    {
     "ename": "TypeError",
     "evalue": "tuple indices must be integers or slices, not tuple",
     "output_type": "error",
     "traceback": [
      "\u001b[0;31m---------------------------------------------------------------------------\u001b[0m",
      "\u001b[0;31mTypeError\u001b[0m                                 Traceback (most recent call last)",
      "\u001b[0;32m<ipython-input-64-2fc740d3e0b9>\u001b[0m in \u001b[0;36m<module>\u001b[0;34m\u001b[0m\n\u001b[0;32m----> 1\u001b[0;31m \u001b[0mtype\u001b[0m\u001b[0;34m(\u001b[0m\u001b[0mpreprocessed_DB\u001b[0m\u001b[0;34m[\u001b[0m\u001b[0;36m0\u001b[0m\u001b[0;34m,\u001b[0m\u001b[0;36m2\u001b[0m\u001b[0;34m]\u001b[0m\u001b[0;34m)\u001b[0m\u001b[0;34m\u001b[0m\u001b[0;34m\u001b[0m\u001b[0m\n\u001b[0m",
      "\u001b[0;31mTypeError\u001b[0m: tuple indices must be integers or slices, not tuple"
     ]
    }
   ],
   "source": [
    "type(preprocessed_DB[0,2])"
   ]
  },
  {
   "cell_type": "code",
   "execution_count": 47,
   "metadata": {},
   "outputs": [
    {
     "data": {
      "text/plain": [
       "'/Users/matthieu/ownCloud/CFTR_PhD/Chemogenomics/Matthieu/CFTR_PROJECT_bis'"
      ]
     },
     "execution_count": 47,
     "metadata": {},
     "output_type": "execute_result"
    }
   ],
   "source": [
    "os.getcwd()"
   ]
  },
  {
   "cell_type": "code",
   "execution_count": 52,
   "metadata": {},
   "outputs": [],
   "source": [
    "K_mol_norm = pickle.load(open(data_dir + pattern_name + '_Kmol_norm.data', 'rb'))\n",
    "K_mol = pickle.load(open(data_dir + pattern_name + '_Kmol.data', 'rb'))\n",
    "# K_prot = pickle.load(open(benoit_dir + '_Kprot_norm.data', 'rb'))"
   ]
  },
  {
   "cell_type": "markdown",
   "metadata": {},
   "source": [
    "# Comparaison"
   ]
  },
  {
   "cell_type": "markdown",
   "metadata": {},
   "source": [
    "## Dictionaries"
   ]
  },
  {
   "cell_type": "code",
   "execution_count": 24,
   "metadata": {},
   "outputs": [],
   "source": [
    "def compare_two_dictionaries(x, y):\n",
    "    shared_items = {k: x[k] for k in x if k in y and x[k] == y[k]}\n",
    "    print(len(shared_items))"
   ]
  },
  {
   "cell_type": "code",
   "execution_count": 28,
   "metadata": {},
   "outputs": [
    {
     "name": "stdout",
     "output_type": "stream",
     "text": [
      "0\n"
     ]
    }
   ],
   "source": [
    "compare_two_dictionaries(dict_ind2mol, \n",
    "                        old_dict_ind2mol)"
   ]
  },
  {
   "cell_type": "markdown",
   "metadata": {},
   "source": [
    "## Numpy arrays"
   ]
  },
  {
   "cell_type": "code",
   "execution_count": 50,
   "metadata": {},
   "outputs": [
    {
     "data": {
      "text/plain": [
       "False"
      ]
     },
     "execution_count": 50,
     "metadata": {},
     "output_type": "execute_result"
    }
   ],
   "source": [
    "np.array_equal(K_mol_norm, old_K_mol_norm)"
   ]
  },
  {
   "cell_type": "code",
   "execution_count": 53,
   "metadata": {},
   "outputs": [
    {
     "data": {
      "text/plain": [
       "array([[1.        , 0.2       , 0.15447154, ..., 0.        , 0.18881119,\n",
       "        0.10810811],\n",
       "       [0.2       , 1.        , 0.18461538, ..., 0.        , 0.15189873,\n",
       "        0.17391304],\n",
       "       [0.15447154, 0.18461538, 1.        , ..., 0.        , 0.14285714,\n",
       "        0.1547619 ],\n",
       "       ...,\n",
       "       [0.        , 0.        , 0.        , ..., 1.        , 0.        ,\n",
       "        0.        ],\n",
       "       [0.18881119, 0.15189873, 0.14285714, ..., 0.        , 1.        ,\n",
       "        0.09649123],\n",
       "       [0.10810811, 0.17391304, 0.1547619 , ..., 0.        , 0.09649123,\n",
       "        1.        ]])"
      ]
     },
     "execution_count": 53,
     "metadata": {},
     "output_type": "execute_result"
    }
   ],
   "source": [
    "K_mol"
   ]
  },
  {
   "cell_type": "code",
   "execution_count": 54,
   "metadata": {},
   "outputs": [
    {
     "data": {
      "text/plain": [
       "array([[1.        , 0.2       , 0.15447154, ..., 0.        , 0.18881119,\n",
       "        0.10810811],\n",
       "       [0.2       , 1.        , 0.18461538, ..., 0.        , 0.15189873,\n",
       "        0.17391304],\n",
       "       [0.15447154, 0.18461538, 1.        , ..., 0.        , 0.14285714,\n",
       "        0.1547619 ],\n",
       "       ...,\n",
       "       [0.        , 0.        , 0.        , ..., 1.        , 0.        ,\n",
       "        0.        ],\n",
       "       [0.18881119, 0.15189873, 0.14285714, ..., 0.        , 1.        ,\n",
       "        0.09649123],\n",
       "       [0.10810811, 0.17391304, 0.1547619 , ..., 0.        , 0.09649123,\n",
       "        1.        ]])"
      ]
     },
     "execution_count": 54,
     "metadata": {},
     "output_type": "execute_result"
    }
   ],
   "source": [
    "old_K_mol"
   ]
  },
  {
   "cell_type": "code",
   "execution_count": 66,
   "metadata": {},
   "outputs": [
    {
     "data": {
      "text/plain": [
       "'/Users/matthieu/ownCloud/CFTR_PhD/Chemogenomics/Matthieu/CFTR_PROJECT_bis'"
      ]
     },
     "execution_count": 66,
     "metadata": {},
     "output_type": "execute_result"
    }
   ],
   "source": [
    "os.getcwd()"
   ]
  },
  {
   "cell_type": "code",
   "execution_count": 67,
   "metadata": {},
   "outputs": [],
   "source": [
    "a = 'mkdir nwdir'\n",
    "\n",
    "b = os.popen(a, 'r', 1)"
   ]
  },
  {
   "cell_type": "code",
   "execution_count": 68,
   "metadata": {},
   "outputs": [
    {
     "name": "stdout",
     "output_type": "stream",
     "text": [
      "<os._wrap_close object at 0x12c087d50>\n"
     ]
    }
   ],
   "source": [
    "print(b)"
   ]
  },
  {
   "cell_type": "code",
   "execution_count": null,
   "metadata": {},
   "outputs": [],
   "source": []
  }
 ],
 "metadata": {
  "kernelspec": {
   "display_name": "Python 3",
   "language": "python",
   "name": "python3"
  },
  "language_info": {
   "codemirror_mode": {
    "name": "ipython",
    "version": 3
   },
   "file_extension": ".py",
   "mimetype": "text/x-python",
   "name": "python",
   "nbconvert_exporter": "python",
   "pygments_lexer": "ipython3",
   "version": "3.7.4"
  }
 },
 "nbformat": 4,
 "nbformat_minor": 4
}
